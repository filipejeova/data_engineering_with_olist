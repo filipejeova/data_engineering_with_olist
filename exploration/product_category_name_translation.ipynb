{
 "cells": [
  {
   "cell_type": "code",
   "execution_count": 1,
   "id": "572bbf49",
   "metadata": {},
   "outputs": [],
   "source": [
    "import pandas as pd"
   ]
  },
  {
   "cell_type": "code",
   "execution_count": 6,
   "id": "c95eaf91",
   "metadata": {},
   "outputs": [],
   "source": [
    "arq1 = r\"C:\\Users\\Legion\\OneDrive\\Documentos\\jeova\\projeto_olist\\data\\product_category_name_translation.csv\""
   ]
  },
  {
   "cell_type": "code",
   "execution_count": 7,
   "id": "16b5f67b",
   "metadata": {},
   "outputs": [],
   "source": [
    "df = pd.read_csv(arq1)"
   ]
  },
  {
   "cell_type": "code",
   "execution_count": 8,
   "id": "e55bd8ff",
   "metadata": {},
   "outputs": [
    {
     "data": {
      "text/html": [
       "<div>\n",
       "<style scoped>\n",
       "    .dataframe tbody tr th:only-of-type {\n",
       "        vertical-align: middle;\n",
       "    }\n",
       "\n",
       "    .dataframe tbody tr th {\n",
       "        vertical-align: top;\n",
       "    }\n",
       "\n",
       "    .dataframe thead th {\n",
       "        text-align: right;\n",
       "    }\n",
       "</style>\n",
       "<table border=\"1\" class=\"dataframe\">\n",
       "  <thead>\n",
       "    <tr style=\"text-align: right;\">\n",
       "      <th></th>\n",
       "      <th>product_category_name</th>\n",
       "      <th>product_category_name_english</th>\n",
       "    </tr>\n",
       "  </thead>\n",
       "  <tbody>\n",
       "    <tr>\n",
       "      <th>0</th>\n",
       "      <td>beleza_saude</td>\n",
       "      <td>health_beauty</td>\n",
       "    </tr>\n",
       "    <tr>\n",
       "      <th>1</th>\n",
       "      <td>informatica_acessorios</td>\n",
       "      <td>computers_accessories</td>\n",
       "    </tr>\n",
       "    <tr>\n",
       "      <th>2</th>\n",
       "      <td>automotivo</td>\n",
       "      <td>auto</td>\n",
       "    </tr>\n",
       "    <tr>\n",
       "      <th>3</th>\n",
       "      <td>cama_mesa_banho</td>\n",
       "      <td>bed_bath_table</td>\n",
       "    </tr>\n",
       "    <tr>\n",
       "      <th>4</th>\n",
       "      <td>moveis_decoracao</td>\n",
       "      <td>furniture_decor</td>\n",
       "    </tr>\n",
       "    <tr>\n",
       "      <th>...</th>\n",
       "      <td>...</td>\n",
       "      <td>...</td>\n",
       "    </tr>\n",
       "    <tr>\n",
       "      <th>66</th>\n",
       "      <td>flores</td>\n",
       "      <td>flowers</td>\n",
       "    </tr>\n",
       "    <tr>\n",
       "      <th>67</th>\n",
       "      <td>artes_e_artesanato</td>\n",
       "      <td>arts_and_craftmanship</td>\n",
       "    </tr>\n",
       "    <tr>\n",
       "      <th>68</th>\n",
       "      <td>fraldas_higiene</td>\n",
       "      <td>diapers_and_hygiene</td>\n",
       "    </tr>\n",
       "    <tr>\n",
       "      <th>69</th>\n",
       "      <td>fashion_roupa_infanto_juvenil</td>\n",
       "      <td>fashion_childrens_clothes</td>\n",
       "    </tr>\n",
       "    <tr>\n",
       "      <th>70</th>\n",
       "      <td>seguros_e_servicos</td>\n",
       "      <td>security_and_services</td>\n",
       "    </tr>\n",
       "  </tbody>\n",
       "</table>\n",
       "<p>71 rows × 2 columns</p>\n",
       "</div>"
      ],
      "text/plain": [
       "            product_category_name product_category_name_english\n",
       "0                    beleza_saude                 health_beauty\n",
       "1          informatica_acessorios         computers_accessories\n",
       "2                      automotivo                          auto\n",
       "3                 cama_mesa_banho                bed_bath_table\n",
       "4                moveis_decoracao               furniture_decor\n",
       "..                            ...                           ...\n",
       "66                         flores                       flowers\n",
       "67             artes_e_artesanato         arts_and_craftmanship\n",
       "68                fraldas_higiene           diapers_and_hygiene\n",
       "69  fashion_roupa_infanto_juvenil     fashion_childrens_clothes\n",
       "70             seguros_e_servicos         security_and_services\n",
       "\n",
       "[71 rows x 2 columns]"
      ]
     },
     "execution_count": 8,
     "metadata": {},
     "output_type": "execute_result"
    }
   ],
   "source": [
    "df"
   ]
  },
  {
   "cell_type": "code",
   "execution_count": 9,
   "id": "1036e725",
   "metadata": {},
   "outputs": [
    {
     "name": "stdout",
     "output_type": "stream",
     "text": [
      "<class 'pandas.core.frame.DataFrame'>\n",
      "RangeIndex: 71 entries, 0 to 70\n",
      "Data columns (total 2 columns):\n",
      " #   Column                         Non-Null Count  Dtype \n",
      "---  ------                         --------------  ----- \n",
      " 0   product_category_name          71 non-null     object\n",
      " 1   product_category_name_english  71 non-null     object\n",
      "dtypes: object(2)\n",
      "memory usage: 1.2+ KB\n"
     ]
    }
   ],
   "source": [
    "df.info()"
   ]
  },
  {
   "cell_type": "code",
   "execution_count": 11,
   "id": "5da6a881",
   "metadata": {},
   "outputs": [
    {
     "data": {
      "text/plain": [
       "product_category_name            0\n",
       "product_category_name_english    0\n",
       "dtype: int64"
      ]
     },
     "execution_count": 11,
     "metadata": {},
     "output_type": "execute_result"
    }
   ],
   "source": [
    "df.isnull().sum()"
   ]
  },
  {
   "cell_type": "code",
   "execution_count": 16,
   "id": "92d3b434",
   "metadata": {},
   "outputs": [
    {
     "data": {
      "text/plain": [
       "array(['beleza_saude', 'informatica_acessorios', 'automotivo',\n",
       "       'cama_mesa_banho', 'moveis_decoracao', 'esporte_lazer',\n",
       "       'perfumaria', 'utilidades_domesticas', 'telefonia',\n",
       "       'relogios_presentes', 'alimentos_bebidas', 'bebes', 'papelaria',\n",
       "       'tablets_impressao_imagem', 'brinquedos', 'telefonia_fixa',\n",
       "       'ferramentas_jardim', 'fashion_bolsas_e_acessorios',\n",
       "       'eletroportateis', 'consoles_games', 'audio', 'fashion_calcados',\n",
       "       'cool_stuff', 'malas_acessorios', 'climatizacao',\n",
       "       'construcao_ferramentas_construcao',\n",
       "       'moveis_cozinha_area_de_servico_jantar_e_jardim',\n",
       "       'construcao_ferramentas_jardim', 'fashion_roupa_masculina',\n",
       "       'pet_shop', 'moveis_escritorio', 'market_place', 'eletronicos',\n",
       "       'eletrodomesticos', 'artigos_de_festas', 'casa_conforto',\n",
       "       'construcao_ferramentas_ferramentas', 'agro_industria_e_comercio',\n",
       "       'moveis_colchao_e_estofado', 'livros_tecnicos', 'casa_construcao',\n",
       "       'instrumentos_musicais', 'moveis_sala',\n",
       "       'construcao_ferramentas_iluminacao',\n",
       "       'industria_comercio_e_negocios', 'alimentos', 'artes',\n",
       "       'moveis_quarto', 'livros_interesse_geral',\n",
       "       'construcao_ferramentas_seguranca',\n",
       "       'fashion_underwear_e_moda_praia', 'fashion_esporte',\n",
       "       'sinalizacao_e_seguranca', 'pcs', 'artigos_de_natal',\n",
       "       'fashion_roupa_feminina', 'eletrodomesticos_2',\n",
       "       'livros_importados', 'bebidas', 'cine_foto', 'la_cuisine',\n",
       "       'musica', 'casa_conforto_2', 'portateis_casa_forno_e_cafe',\n",
       "       'cds_dvds_musicais', 'dvds_blu_ray', 'flores',\n",
       "       'artes_e_artesanato', 'fraldas_higiene',\n",
       "       'fashion_roupa_infanto_juvenil', 'seguros_e_servicos'],\n",
       "      dtype=object)"
      ]
     },
     "execution_count": 16,
     "metadata": {},
     "output_type": "execute_result"
    }
   ],
   "source": [
    "df['product_category_name'].unique()"
   ]
  },
  {
   "cell_type": "code",
   "execution_count": 17,
   "id": "2d754aa7",
   "metadata": {},
   "outputs": [
    {
     "data": {
      "text/plain": [
       "array(['health_beauty', 'computers_accessories', 'auto', 'bed_bath_table',\n",
       "       'furniture_decor', 'sports_leisure', 'perfumery', 'housewares',\n",
       "       'telephony', 'watches_gifts', 'food_drink', 'baby', 'stationery',\n",
       "       'tablets_printing_image', 'toys', 'fixed_telephony',\n",
       "       'garden_tools', 'fashion_bags_accessories', 'small_appliances',\n",
       "       'consoles_games', 'audio', 'fashion_shoes', 'cool_stuff',\n",
       "       'luggage_accessories', 'air_conditioning',\n",
       "       'construction_tools_construction',\n",
       "       'kitchen_dining_laundry_garden_furniture',\n",
       "       'costruction_tools_garden', 'fashion_male_clothing', 'pet_shop',\n",
       "       'office_furniture', 'market_place', 'electronics',\n",
       "       'home_appliances', 'party_supplies', 'home_confort',\n",
       "       'costruction_tools_tools', 'agro_industry_and_commerce',\n",
       "       'furniture_mattress_and_upholstery', 'books_technical',\n",
       "       'home_construction', 'musical_instruments',\n",
       "       'furniture_living_room', 'construction_tools_lights',\n",
       "       'industry_commerce_and_business', 'food', 'art',\n",
       "       'furniture_bedroom', 'books_general_interest',\n",
       "       'construction_tools_safety', 'fashion_underwear_beach',\n",
       "       'fashion_sport', 'signaling_and_security', 'computers',\n",
       "       'christmas_supplies', 'fashio_female_clothing',\n",
       "       'home_appliances_2', 'books_imported', 'drinks', 'cine_photo',\n",
       "       'la_cuisine', 'music', 'home_comfort_2',\n",
       "       'small_appliances_home_oven_and_coffee', 'cds_dvds_musicals',\n",
       "       'dvds_blu_ray', 'flowers', 'arts_and_craftmanship',\n",
       "       'diapers_and_hygiene', 'fashion_childrens_clothes',\n",
       "       'security_and_services'], dtype=object)"
      ]
     },
     "execution_count": 17,
     "metadata": {},
     "output_type": "execute_result"
    }
   ],
   "source": [
    "df['product_category_name_english'].unique()"
   ]
  },
  {
   "cell_type": "code",
   "execution_count": 18,
   "id": "e1ca6790",
   "metadata": {},
   "outputs": [
    {
     "data": {
      "text/plain": [
       "product_category_name_english\n",
       "health_beauty                1\n",
       "computers_accessories        1\n",
       "auto                         1\n",
       "bed_bath_table               1\n",
       "furniture_decor              1\n",
       "                            ..\n",
       "flowers                      1\n",
       "arts_and_craftmanship        1\n",
       "diapers_and_hygiene          1\n",
       "fashion_childrens_clothes    1\n",
       "security_and_services        1\n",
       "Name: count, Length: 71, dtype: int64"
      ]
     },
     "execution_count": 18,
     "metadata": {},
     "output_type": "execute_result"
    }
   ],
   "source": [
    "df['product_category_name_english'].value_counts()"
   ]
  },
  {
   "cell_type": "code",
   "execution_count": 19,
   "id": "b76c96d0",
   "metadata": {},
   "outputs": [
    {
     "data": {
      "text/plain": [
       "product_category_name\n",
       "beleza_saude                     1\n",
       "informatica_acessorios           1\n",
       "automotivo                       1\n",
       "cama_mesa_banho                  1\n",
       "moveis_decoracao                 1\n",
       "                                ..\n",
       "flores                           1\n",
       "artes_e_artesanato               1\n",
       "fraldas_higiene                  1\n",
       "fashion_roupa_infanto_juvenil    1\n",
       "seguros_e_servicos               1\n",
       "Name: count, Length: 71, dtype: int64"
      ]
     },
     "execution_count": 19,
     "metadata": {},
     "output_type": "execute_result"
    }
   ],
   "source": [
    "df['product_category_name'].value_counts()"
   ]
  },
  {
   "cell_type": "markdown",
   "id": "55fbaff2",
   "metadata": {},
   "source": [
    "### foram encontrados divergencia no DF product_category_name_translation totalizando 71, enquanto enquanto na DF olist_products_dataset consta 73 (Verificar)"
   ]
  },
  {
   "cell_type": "code",
   "execution_count": null,
   "id": "47193734",
   "metadata": {},
   "outputs": [],
   "source": []
  }
 ],
 "metadata": {
  "kernelspec": {
   "display_name": ".venv",
   "language": "python",
   "name": "python3"
  },
  "language_info": {
   "codemirror_mode": {
    "name": "ipython",
    "version": 3
   },
   "file_extension": ".py",
   "mimetype": "text/x-python",
   "name": "python",
   "nbconvert_exporter": "python",
   "pygments_lexer": "ipython3",
   "version": "3.10.11"
  }
 },
 "nbformat": 4,
 "nbformat_minor": 5
}
