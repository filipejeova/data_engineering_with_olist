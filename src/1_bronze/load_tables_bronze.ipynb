{
 "cells": [
  {
   "cell_type": "markdown",
   "id": "4c490c09",
   "metadata": {},
   "source": [
    "# Subindo dados na camada bronze"
   ]
  },
  {
   "cell_type": "markdown",
   "id": "bd8d4cf2",
   "metadata": {},
   "source": [
    "## importando dados e gerando conexão com o postgres"
   ]
  },
  {
   "cell_type": "code",
   "execution_count": 3,
   "id": "2c256b36",
   "metadata": {},
   "outputs": [],
   "source": [
    "import pandas as pd\n",
    "from sqlalchemy import create_engine\n",
    "import os\n",
    "\n",
    "\n",
    "# 2. Configurar a conexão com o banco\n",
    "usuario = \"meu_usuario\"\n",
    "senha = \"minha_senha_segura\"\n",
    "host = \"localhost\"\n",
    "porta = \"5432\"\n",
    "banco = \"meu_banco\"\n",
    "\n",
    "db_url = f\"postgresql://{usuario}:{senha}@{host}:{porta}/{banco}\"\n",
    "engine = create_engine(db_url)"
   ]
  },
  {
   "cell_type": "markdown",
   "id": "8d9a9780",
   "metadata": {},
   "source": [
    "## Gerando for para criar tabela por tabela"
   ]
  },
  {
   "cell_type": "code",
   "execution_count": 4,
   "id": "c653c678",
   "metadata": {},
   "outputs": [
    {
     "name": "stdout",
     "output_type": "stream",
     "text": [
      "Tabela olist_customers criada com sucesso no schema bronze!\n",
      "Tabela olist_orders criada com sucesso no schema bronze!\n",
      "Tabela olist_order_items criada com sucesso no schema bronze!\n",
      "Tabela olist_order_payments criada com sucesso no schema bronze!\n",
      "Tabela olist_products criada com sucesso no schema bronze!\n",
      "Tabela product_category_name_translation criada com sucesso no schema bronze!\n"
     ]
    }
   ],
   "source": [
    "pasta = '../../data'\n",
    "\n",
    "lista_pasta = os.listdir(pasta)\n",
    "\n",
    "\n",
    "for item in lista_pasta:\n",
    "\n",
    "    arquivo = f\"{pasta}/{item}\"\n",
    "\n",
    "    nome_tabela = item.replace('_dataset.csv', '').replace('.csv', '')\n",
    "\n",
    "    df = pd.read_csv(arquivo)\n",
    "\n",
    "    df.to_sql(nome_tabela, engine, schema=\"bronze\", if_exists='replace', index=False)\n",
    "\n",
    "    print(f\"Tabela {nome_tabela} criada com sucesso no schema bronze!\")\n"
   ]
  }
 ],
 "metadata": {
  "kernelspec": {
   "display_name": ".venv",
   "language": "python",
   "name": "python3"
  },
  "language_info": {
   "codemirror_mode": {
    "name": "ipython",
    "version": 3
   },
   "file_extension": ".py",
   "mimetype": "text/x-python",
   "name": "python",
   "nbconvert_exporter": "python",
   "pygments_lexer": "ipython3",
   "version": "3.10.11"
  }
 },
 "nbformat": 4,
 "nbformat_minor": 5
}
