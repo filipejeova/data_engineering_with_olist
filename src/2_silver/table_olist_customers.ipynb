{
 "cells": [
  {
   "cell_type": "markdown",
   "id": "c353bbc0",
   "metadata": {},
   "source": [
    "# Subindo dados da camada Bronze \n",
    "\n",
    "## Importando dados e gerando conexão com o postgres"
   ]
  },
  {
   "cell_type": "code",
   "execution_count": 1,
   "id": "2c256b36",
   "metadata": {},
   "outputs": [],
   "source": [
    "import pandas as pd\n",
    "from sqlalchemy import create_engine, text\n",
    "import os\n",
    "\n",
    "# 2. Configurar a conexão com o banco\n",
    "usuario = \"meu_usuario\"\n",
    "senha = \"minha_senha_segura\"\n",
    "host = \"localhost\"\n",
    "porta = \"5432\"\n",
    "banco = \"meu_banco\"\n",
    "\n",
    "db_url = f\"postgresql://{usuario}:{senha}@{host}:{porta}/{banco}\"\n",
    "engine = create_engine(db_url)"
   ]
  },
  {
   "cell_type": "markdown",
   "id": "f378814c",
   "metadata": {},
   "source": [
    "### Lendo dataframe olist_customers com a query"
   ]
  },
  {
   "cell_type": "code",
   "execution_count": 2,
   "id": "90347bfc",
   "metadata": {},
   "outputs": [
    {
     "name": "stdout",
     "output_type": "stream",
     "text": [
      "Tabela lida com sucesso com a query!\n"
     ]
    }
   ],
   "source": [
    "nome_tabela = 'olist_customers'\n",
    "\n",
    "# Crie a query SQL qualificando a tabela com o schema\n",
    "query = f\"SELECT * FROM bronze.{nome_tabela};\"\n",
    "\n",
    "# Execute a query\n",
    "# O uso do 'text()' é uma boa prática para evitar problemas de formatação com SQLAlchemy\n",
    "df_query = pd.read_sql_query(text(query), engine)\n",
    "\n",
    "# 3. Visualizar os primeiros registros do DataFrame\n",
    "print(\"Tabela lida com sucesso com a query!\")"
   ]
  },
  {
   "cell_type": "code",
   "execution_count": 3,
   "id": "473d0192",
   "metadata": {},
   "outputs": [
    {
     "data": {
      "text/html": [
       "<div>\n",
       "<style scoped>\n",
       "    .dataframe tbody tr th:only-of-type {\n",
       "        vertical-align: middle;\n",
       "    }\n",
       "\n",
       "    .dataframe tbody tr th {\n",
       "        vertical-align: top;\n",
       "    }\n",
       "\n",
       "    .dataframe thead th {\n",
       "        text-align: right;\n",
       "    }\n",
       "</style>\n",
       "<table border=\"1\" class=\"dataframe\">\n",
       "  <thead>\n",
       "    <tr style=\"text-align: right;\">\n",
       "      <th></th>\n",
       "      <th>customer_id</th>\n",
       "      <th>customer_unique_id</th>\n",
       "      <th>customer_zip_code_prefix</th>\n",
       "      <th>customer_city</th>\n",
       "      <th>customer_state</th>\n",
       "    </tr>\n",
       "  </thead>\n",
       "  <tbody>\n",
       "    <tr>\n",
       "      <th>0</th>\n",
       "      <td>06b8999e2fba1a1fbc88172c00ba8bc7</td>\n",
       "      <td>861eff4711a542e4b93843c6dd7febb0</td>\n",
       "      <td>14409</td>\n",
       "      <td>franca</td>\n",
       "      <td>SP</td>\n",
       "    </tr>\n",
       "    <tr>\n",
       "      <th>1</th>\n",
       "      <td>18955e83d337fd6b2def6b18a428ac77</td>\n",
       "      <td>290c77bc529b7ac935b93aa66c333dc3</td>\n",
       "      <td>9790</td>\n",
       "      <td>sao bernardo do campo</td>\n",
       "      <td>SP</td>\n",
       "    </tr>\n",
       "    <tr>\n",
       "      <th>2</th>\n",
       "      <td>4e7b3e00288586ebd08712fdd0374a03</td>\n",
       "      <td>060e732b5b29e8181a18229c7b0b2b5e</td>\n",
       "      <td>1151</td>\n",
       "      <td>sao paulo</td>\n",
       "      <td>SP</td>\n",
       "    </tr>\n",
       "    <tr>\n",
       "      <th>3</th>\n",
       "      <td>b2b6027bc5c5109e529d4dc6358b12c3</td>\n",
       "      <td>259dac757896d24d7702b9acbbff3f3c</td>\n",
       "      <td>8775</td>\n",
       "      <td>mogi das cruzes</td>\n",
       "      <td>SP</td>\n",
       "    </tr>\n",
       "    <tr>\n",
       "      <th>4</th>\n",
       "      <td>4f2d8ab171c80ec8364f7c12e35b23ad</td>\n",
       "      <td>345ecd01c38d18a9036ed96c73b8d066</td>\n",
       "      <td>13056</td>\n",
       "      <td>campinas</td>\n",
       "      <td>SP</td>\n",
       "    </tr>\n",
       "  </tbody>\n",
       "</table>\n",
       "</div>"
      ],
      "text/plain": [
       "                        customer_id                customer_unique_id  \\\n",
       "0  06b8999e2fba1a1fbc88172c00ba8bc7  861eff4711a542e4b93843c6dd7febb0   \n",
       "1  18955e83d337fd6b2def6b18a428ac77  290c77bc529b7ac935b93aa66c333dc3   \n",
       "2  4e7b3e00288586ebd08712fdd0374a03  060e732b5b29e8181a18229c7b0b2b5e   \n",
       "3  b2b6027bc5c5109e529d4dc6358b12c3  259dac757896d24d7702b9acbbff3f3c   \n",
       "4  4f2d8ab171c80ec8364f7c12e35b23ad  345ecd01c38d18a9036ed96c73b8d066   \n",
       "\n",
       "   customer_zip_code_prefix          customer_city customer_state  \n",
       "0                     14409                 franca             SP  \n",
       "1                      9790  sao bernardo do campo             SP  \n",
       "2                      1151              sao paulo             SP  \n",
       "3                      8775        mogi das cruzes             SP  \n",
       "4                     13056               campinas             SP  "
      ]
     },
     "execution_count": 3,
     "metadata": {},
     "output_type": "execute_result"
    }
   ],
   "source": [
    "df_query.head()"
   ]
  },
  {
   "cell_type": "code",
   "execution_count": 4,
   "id": "9477e6d4",
   "metadata": {},
   "outputs": [
    {
     "name": "stdout",
     "output_type": "stream",
     "text": [
      "<class 'pandas.core.frame.DataFrame'>\n",
      "RangeIndex: 99441 entries, 0 to 99440\n",
      "Data columns (total 5 columns):\n",
      " #   Column                    Non-Null Count  Dtype \n",
      "---  ------                    --------------  ----- \n",
      " 0   customer_id               99441 non-null  object\n",
      " 1   customer_unique_id        99441 non-null  object\n",
      " 2   customer_zip_code_prefix  99441 non-null  int64 \n",
      " 3   customer_city             99441 non-null  object\n",
      " 4   customer_state            99441 non-null  object\n",
      "dtypes: int64(1), object(4)\n",
      "memory usage: 3.8+ MB\n"
     ]
    }
   ],
   "source": [
    "df_query.info()"
   ]
  },
  {
   "cell_type": "markdown",
   "id": "3e2a2158",
   "metadata": {},
   "source": [
    "### Verificando se há valores nulos."
   ]
  },
  {
   "cell_type": "code",
   "execution_count": 5,
   "id": "f07e459d",
   "metadata": {},
   "outputs": [
    {
     "data": {
      "text/plain": [
       "customer_id                 0\n",
       "customer_unique_id          0\n",
       "customer_zip_code_prefix    0\n",
       "customer_city               0\n",
       "customer_state              0\n",
       "dtype: int64"
      ]
     },
     "execution_count": 5,
     "metadata": {},
     "output_type": "execute_result"
    }
   ],
   "source": [
    "df_query.isnull().sum()"
   ]
  },
  {
   "cell_type": "markdown",
   "id": "4e527658",
   "metadata": {},
   "source": [
    "### Subindo para camada Silver"
   ]
  },
  {
   "cell_type": "code",
   "execution_count": 6,
   "id": "6675782b",
   "metadata": {},
   "outputs": [
    {
     "name": "stdout",
     "output_type": "stream",
     "text": [
      "Tabela olist_customers criada com sucesso no schema silver!\n"
     ]
    }
   ],
   "source": [
    "df_query.to_sql(\n",
    "        \"olist_customers\",\n",
    "        engine,\n",
    "        schema=\"silver\",  # <-- AQUI ESTÁ A MUDANÇA PRINCIPAL\n",
    "        if_exists='replace',\n",
    "        index=False\n",
    "    )\n",
    "\n",
    "print(f\"Tabela olist_customers criada com sucesso no schema silver!\")"
   ]
  },
  {
   "cell_type": "code",
   "execution_count": null,
   "id": "8fe47154",
   "metadata": {},
   "outputs": [],
   "source": []
  }
 ],
 "metadata": {
  "kernelspec": {
   "display_name": ".venv",
   "language": "python",
   "name": "python3"
  },
  "language_info": {
   "codemirror_mode": {
    "name": "ipython",
    "version": 3
   },
   "file_extension": ".py",
   "mimetype": "text/x-python",
   "name": "python",
   "nbconvert_exporter": "python",
   "pygments_lexer": "ipython3",
   "version": "3.10.11"
  }
 },
 "nbformat": 4,
 "nbformat_minor": 5
}
