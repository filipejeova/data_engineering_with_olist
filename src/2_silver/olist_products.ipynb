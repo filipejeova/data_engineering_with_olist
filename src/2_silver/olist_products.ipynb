{
 "cells": [
  {
   "cell_type": "markdown",
   "id": "04ebb1cf",
   "metadata": {},
   "source": [
    "# Subindo dados da camada Bronze \n",
    "\n",
    "## Importando dados e gerando conexão com o postgres"
   ]
  },
  {
   "cell_type": "code",
   "execution_count": null,
   "id": "c9ba8d5c",
   "metadata": {},
   "outputs": [],
   "source": [
    "import pandas as pd\n",
    "from sqlalchemy import create_engine, text\n",
    "import os\n",
    "import numpy as np\n",
    "\n",
    "# 2. Configurar a conexão com o banco\n",
    "usuario = \"meu_usuario\"\n",
    "senha = \"minha_senha_segura\"\n",
    "host = \"localhost\"\n",
    "porta = \"5432\"\n",
    "banco = \"meu_banco\"\n",
    "\n",
    "db_url = f\"postgresql://{usuario}:{senha}@{host}:{porta}/{banco}\"\n",
    "engine = create_engine(db_url)"
   ]
  },
  {
   "cell_type": "markdown",
   "id": "b6a90aac",
   "metadata": {},
   "source": [
    "### Lendo dataframe olist_products com a query"
   ]
  },
  {
   "cell_type": "code",
   "execution_count": 18,
   "id": "93afe128",
   "metadata": {},
   "outputs": [
    {
     "name": "stdout",
     "output_type": "stream",
     "text": [
      "Tabela lida com sucesso com a query!\n"
     ]
    }
   ],
   "source": [
    "nome_tabela = 'olist_products'\n",
    "\n",
    "# Crie a query SQL qualificando a tabela com o schema\n",
    "query = f\"SELECT * FROM bronze.{nome_tabela};\"\n",
    "\n",
    "# Execute a query\n",
    "# O uso do 'text()' é uma boa prática para evitar problemas de formatação com SQLAlchemy\n",
    "df_query = pd.read_sql_query(text(query), engine)\n",
    "\n",
    "# 3. Visualizar os primeiros registros do DataFrame\n",
    "print(\"Tabela lida com sucesso com a query!\")"
   ]
  },
  {
   "cell_type": "markdown",
   "id": "1ade9d80",
   "metadata": {},
   "source": [
    "# Fazendo agrupamento de categoria com groupby\n",
    "### - Criando uma nova coluna chamada Grupo"
   ]
  },
  {
   "cell_type": "code",
   "execution_count": null,
   "id": "ee071ae4",
   "metadata": {},
   "outputs": [],
   "source": [
    "categorias_array = df_query['product_category_name'].unique()\n",
    "categorias_series = pd.Series(categorias_array, name=\"categoria_original\")\n",
    "\n",
    "grupos = categorias_series.str.split('_').str[0]\n",
    "\n",
    "df_categorias = pd.DataFrame({\n",
    "    'categoria_original': categorias_series,\n",
    "    'grupo': grupos\n",
    "})\n",
    "\n",
    "categorias_agrupadas = df_categorias.groupby('grupo')['categoria_original'].apply(list)"
   ]
  },
  {
   "cell_type": "code",
   "execution_count": 27,
   "id": "c996dfbe",
   "metadata": {},
   "outputs": [],
   "source": [
    "categorias_array = df_query['product_category_name'].unique()\n",
    "categorias_series = pd.Series(categorias_array, name=\"categoria_original\")\n",
    "grupos = categorias_series.str.split('_').str[0]\n",
    "df_categorias = pd.DataFrame({\n",
    "    'categoria_original': categorias_series,\n",
    "    'grupo': grupos\n",
    "})\n",
    "\n",
    "categorias_agrupadas = df_categorias.groupby('grupo')['categoria_original'].apply(list)\n"
   ]
  },
  {
   "cell_type": "code",
   "execution_count": null,
   "id": "e0ae05fa",
   "metadata": {},
   "outputs": [
    {
     "data": {
      "text/html": [
       "<div>\n",
       "<style scoped>\n",
       "    .dataframe tbody tr th:only-of-type {\n",
       "        vertical-align: middle;\n",
       "    }\n",
       "\n",
       "    .dataframe tbody tr th {\n",
       "        vertical-align: top;\n",
       "    }\n",
       "\n",
       "    .dataframe thead th {\n",
       "        text-align: right;\n",
       "    }\n",
       "</style>\n",
       "<table border=\"1\" class=\"dataframe\">\n",
       "  <thead>\n",
       "    <tr style=\"text-align: right;\">\n",
       "      <th></th>\n",
       "      <th>product_id</th>\n",
       "      <th>product_category_name</th>\n",
       "      <th>product_name_lenght</th>\n",
       "      <th>product_description_lenght</th>\n",
       "      <th>product_photos_qty</th>\n",
       "      <th>product_weight_g</th>\n",
       "      <th>product_length_cm</th>\n",
       "      <th>product_height_cm</th>\n",
       "      <th>product_width_cm</th>\n",
       "      <th>categoria_original</th>\n",
       "      <th>grupo</th>\n",
       "    </tr>\n",
       "  </thead>\n",
       "  <tbody>\n",
       "    <tr>\n",
       "      <th>0</th>\n",
       "      <td>1e9e8ef04dbcff4541ed26657ea517e5</td>\n",
       "      <td>perfumaria</td>\n",
       "      <td>40.0</td>\n",
       "      <td>287.0</td>\n",
       "      <td>1.0</td>\n",
       "      <td>225.0</td>\n",
       "      <td>16.0</td>\n",
       "      <td>10.0</td>\n",
       "      <td>14.0</td>\n",
       "      <td>perfumaria</td>\n",
       "      <td>perfumaria</td>\n",
       "    </tr>\n",
       "    <tr>\n",
       "      <th>1</th>\n",
       "      <td>3aa071139cb16b67ca9e5dea641aaa2f</td>\n",
       "      <td>artes</td>\n",
       "      <td>44.0</td>\n",
       "      <td>276.0</td>\n",
       "      <td>1.0</td>\n",
       "      <td>1000.0</td>\n",
       "      <td>30.0</td>\n",
       "      <td>18.0</td>\n",
       "      <td>20.0</td>\n",
       "      <td>artes</td>\n",
       "      <td>artes</td>\n",
       "    </tr>\n",
       "    <tr>\n",
       "      <th>2</th>\n",
       "      <td>96bd76ec8810374ed1b65e291975717f</td>\n",
       "      <td>esporte_lazer</td>\n",
       "      <td>46.0</td>\n",
       "      <td>250.0</td>\n",
       "      <td>1.0</td>\n",
       "      <td>154.0</td>\n",
       "      <td>18.0</td>\n",
       "      <td>9.0</td>\n",
       "      <td>15.0</td>\n",
       "      <td>esporte_lazer</td>\n",
       "      <td>esporte</td>\n",
       "    </tr>\n",
       "    <tr>\n",
       "      <th>3</th>\n",
       "      <td>cef67bcfe19066a932b7673e239eb23d</td>\n",
       "      <td>bebes</td>\n",
       "      <td>27.0</td>\n",
       "      <td>261.0</td>\n",
       "      <td>1.0</td>\n",
       "      <td>371.0</td>\n",
       "      <td>26.0</td>\n",
       "      <td>4.0</td>\n",
       "      <td>26.0</td>\n",
       "      <td>bebes</td>\n",
       "      <td>bebes</td>\n",
       "    </tr>\n",
       "    <tr>\n",
       "      <th>4</th>\n",
       "      <td>9dc1a7de274444849c219cff195d0b71</td>\n",
       "      <td>utilidades_domesticas</td>\n",
       "      <td>37.0</td>\n",
       "      <td>402.0</td>\n",
       "      <td>4.0</td>\n",
       "      <td>625.0</td>\n",
       "      <td>20.0</td>\n",
       "      <td>17.0</td>\n",
       "      <td>13.0</td>\n",
       "      <td>utilidades_domesticas</td>\n",
       "      <td>utilidades</td>\n",
       "    </tr>\n",
       "  </tbody>\n",
       "</table>\n",
       "</div>"
      ],
      "text/plain": [
       "                         product_id  product_category_name  \\\n",
       "0  1e9e8ef04dbcff4541ed26657ea517e5             perfumaria   \n",
       "1  3aa071139cb16b67ca9e5dea641aaa2f                  artes   \n",
       "2  96bd76ec8810374ed1b65e291975717f          esporte_lazer   \n",
       "3  cef67bcfe19066a932b7673e239eb23d                  bebes   \n",
       "4  9dc1a7de274444849c219cff195d0b71  utilidades_domesticas   \n",
       "\n",
       "   product_name_lenght  product_description_lenght  product_photos_qty  \\\n",
       "0                 40.0                       287.0                 1.0   \n",
       "1                 44.0                       276.0                 1.0   \n",
       "2                 46.0                       250.0                 1.0   \n",
       "3                 27.0                       261.0                 1.0   \n",
       "4                 37.0                       402.0                 4.0   \n",
       "\n",
       "   product_weight_g  product_length_cm  product_height_cm  product_width_cm  \\\n",
       "0             225.0               16.0               10.0              14.0   \n",
       "1            1000.0               30.0               18.0              20.0   \n",
       "2             154.0               18.0                9.0              15.0   \n",
       "3             371.0               26.0                4.0              26.0   \n",
       "4             625.0               20.0               17.0              13.0   \n",
       "\n",
       "      categoria_original       grupo  \n",
       "0             perfumaria  perfumaria  \n",
       "1                  artes       artes  \n",
       "2          esporte_lazer     esporte  \n",
       "3                  bebes       bebes  \n",
       "4  utilidades_domesticas  utilidades  "
      ]
     },
     "execution_count": 28,
     "metadata": {},
     "output_type": "execute_result"
    }
   ],
   "source": [
    "# Assumindo que 'df_query' já existe e tem a coluna 'product_category_name'\n",
    "# E que o código que você já escreveu foi executado:\n",
    "categorias_array = df_query['product_category_name'].unique()\n",
    "categorias_series = pd.Series(categorias_array, name=\"categoria_original\")\n",
    "grupos = categorias_series.str.split('_').str[0]\n",
    "df_categorias = pd.DataFrame({\n",
    "    'categoria_original': categorias_series,\n",
    "    'grupo': grupos\n",
    "})\n",
    "\n",
    "# --- PASSO PRINCIPAL: JUNTAR OS DATAFRAMES ---\n",
    "# Aqui nós unimos o df_query com o df_categorias\n",
    "df_final = pd.merge(\n",
    "    df_query,                 # Seu DataFrame original à esquerda\n",
    "    df_categorias,            # Sua tabela de \"mapeamento\" à direita\n",
    "    left_on='product_category_name', # Chave de junção no DataFrame da esquerda\n",
    "    right_on='categoria_original',   # Chave de junção no DataFrame da direita\n",
    "    how='left'                # Mantém todos os produtos do df_query original\n",
    ")\n",
    "\n",
    "# Exibir as primeiras linhas do novo DataFrame com a coluna \"grupo\"\n",
    "# df_final.head()"
   ]
  },
  {
   "cell_type": "markdown",
   "id": "4c178de4",
   "metadata": {},
   "source": [
    "## deletando coluna product_category_name"
   ]
  },
  {
   "cell_type": "code",
   "execution_count": 29,
   "id": "76bc1780",
   "metadata": {},
   "outputs": [],
   "source": [
    "df_final = df_final.drop('product_category_name', axis=1)"
   ]
  },
  {
   "cell_type": "markdown",
   "id": "7e347fba",
   "metadata": {},
   "source": [
    "### Subindo para camada Silver"
   ]
  },
  {
   "cell_type": "code",
   "execution_count": 31,
   "id": "89b64ed1",
   "metadata": {},
   "outputs": [
    {
     "name": "stdout",
     "output_type": "stream",
     "text": [
      "Tabela olist_products criada com sucesso no schema silver!\n"
     ]
    }
   ],
   "source": [
    "df_final.to_sql(\n",
    "        \"olist_products\",\n",
    "        engine,\n",
    "        schema=\"silver\",  # <-- AQUI ESTÁ A MUDANÇA PRINCIPAL\n",
    "        if_exists='replace',\n",
    "        index=False\n",
    "    )\n",
    "\n",
    "print(f\"Tabela olist_products criada com sucesso no schema silver!\")"
   ]
  }
 ],
 "metadata": {
  "kernelspec": {
   "display_name": ".venv",
   "language": "python",
   "name": "python3"
  },
  "language_info": {
   "codemirror_mode": {
    "name": "ipython",
    "version": 3
   },
   "file_extension": ".py",
   "mimetype": "text/x-python",
   "name": "python",
   "nbconvert_exporter": "python",
   "pygments_lexer": "ipython3",
   "version": "3.10.11"
  }
 },
 "nbformat": 4,
 "nbformat_minor": 5
}
