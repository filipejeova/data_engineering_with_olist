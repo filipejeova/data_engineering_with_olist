{
 "cells": [
  {
   "cell_type": "markdown",
   "id": "5bfa8a7e",
   "metadata": {},
   "source": [
    "# Gerando tabela Fato"
   ]
  },
  {
   "cell_type": "markdown",
   "id": "6842348b",
   "metadata": {},
   "source": [
    "- Objetivo: Construir uma tabela única (tabelão/flat table) que contenha todas as informações relevantes sobre cada item vendido."
   ]
  },
  {
   "cell_type": "markdown",
   "id": "ef43a9f6",
   "metadata": {},
   "source": [
    "## gerando conexao com postgres"
   ]
  },
  {
   "cell_type": "code",
   "execution_count": 1,
   "id": "3e1dfbef",
   "metadata": {},
   "outputs": [],
   "source": [
    "import pandas as pd\n",
    "from sqlalchemy import create_engine, text\n",
    "import os\n",
    "\n",
    "# 2. Configurar a conexão com o banco\n",
    "usuario = \"meu_usuario\"\n",
    "senha = \"minha_senha_segura\"\n",
    "host = \"localhost\"\n",
    "porta = \"5432\"\n",
    "banco = \"meu_banco\"\n",
    "\n",
    "db_url = f\"postgresql://{usuario}:{senha}@{host}:{porta}/{banco}\"\n",
    "engine = create_engine(db_url)"
   ]
  },
  {
   "cell_type": "markdown",
   "id": "7b9d2b0f",
   "metadata": {},
   "source": [
    "## Lendo tabela silver.olist_orders"
   ]
  },
  {
   "cell_type": "code",
   "execution_count": 19,
   "id": "ff90176c",
   "metadata": {},
   "outputs": [
    {
     "name": "stdout",
     "output_type": "stream",
     "text": [
      "Tabela lida com sucesso com a query!\n"
     ]
    }
   ],
   "source": [
    "nome_tabela = 'olist_orders'\n",
    "\n",
    "# Crie a query SQL qualificando a tabela com o schema\n",
    "query = f\"SELECT * FROM silver.{nome_tabela};\"\n",
    "\n",
    "# Execute a query\n",
    "# O uso do 'text()' é uma boa prática para evitar problemas de formatação com SQLAlchemy\n",
    "df_olist_orders = pd.read_sql_query(text(query), engine)\n",
    "\n",
    "# 3. Visualizar os primeiros registros do DataFrame\n",
    "print(\"Tabela lida com sucesso com a query!\")"
   ]
  },
  {
   "cell_type": "markdown",
   "id": "a7ae680d",
   "metadata": {},
   "source": [
    "## Lendo tabela silver.olist_products"
   ]
  },
  {
   "cell_type": "code",
   "execution_count": 20,
   "id": "177e143c",
   "metadata": {},
   "outputs": [
    {
     "name": "stdout",
     "output_type": "stream",
     "text": [
      "Tabela lida com sucesso com a query!\n"
     ]
    }
   ],
   "source": [
    "nome_tabela = 'olist_products'\n",
    "\n",
    "# Crie a query SQL qualificando a tabela com o schema\n",
    "query = f\"SELECT * FROM silver.{nome_tabela};\"\n",
    "\n",
    "# Execute a query\n",
    "# O uso do 'text()' é uma boa prática para evitar problemas de formatação com SQLAlchemy\n",
    "df_olist_products = pd.read_sql_query(text(query), engine)\n",
    "\n",
    "# 3. Visualizar os primeiros registros do DataFrame\n",
    "print(\"Tabela lida com sucesso com a query!\")"
   ]
  },
  {
   "cell_type": "markdown",
   "id": "49b5d97e",
   "metadata": {},
   "source": [
    "## Lendo tabela silver.olist_order_items"
   ]
  },
  {
   "cell_type": "code",
   "execution_count": 21,
   "id": "434c02aa",
   "metadata": {},
   "outputs": [
    {
     "name": "stdout",
     "output_type": "stream",
     "text": [
      "Tabela lida com sucesso com a query!\n"
     ]
    }
   ],
   "source": [
    "nome_tabela = 'olist_order_items'\n",
    "\n",
    "# Crie a query SQL qualificando a tabela com o schema\n",
    "query = f\"SELECT * FROM silver.{nome_tabela};\"\n",
    "\n",
    "# Execute a query\n",
    "# O uso do 'text()' é uma boa prática para evitar problemas de formatação com SQLAlchemy\n",
    "df_olist_order_items = pd.read_sql_query(text(query), engine)\n",
    "\n",
    "# 3. Visualizar os primeiros registros do DataFrame\n",
    "print(\"Tabela lida com sucesso com a query!\")"
   ]
  },
  {
   "cell_type": "markdown",
   "id": "aa3f3a44",
   "metadata": {},
   "source": [
    "## Lendo tabela silver.olist_customers"
   ]
  },
  {
   "cell_type": "code",
   "execution_count": 22,
   "id": "6ed5545b",
   "metadata": {},
   "outputs": [
    {
     "name": "stdout",
     "output_type": "stream",
     "text": [
      "Tabela lida com sucesso com a query!\n"
     ]
    }
   ],
   "source": [
    "nome_tabela = 'olist_customers'\n",
    "\n",
    "# Crie a query SQL qualificando a tabela com o schema\n",
    "query = f\"SELECT * FROM silver.{nome_tabela};\"\n",
    "\n",
    "# Execute a query\n",
    "# O uso do 'text()' é uma boa prática para evitar problemas de formatação com SQLAlchemy\n",
    "df_olist_customers = pd.read_sql_query(text(query), engine)\n",
    "\n",
    "# 3. Visualizar os primeiros registros do DataFrame\n",
    "print(\"Tabela lida com sucesso com a query!\")"
   ]
  },
  {
   "cell_type": "markdown",
   "id": "2134b012",
   "metadata": {},
   "source": [
    "## Unindo tabelas"
   ]
  },
  {
   "cell_type": "markdown",
   "id": "eb4cc615",
   "metadata": {},
   "source": [
    "### join tabela df_olist_order_items com df_olist_orders "
   ]
  },
  {
   "cell_type": "code",
   "execution_count": 24,
   "id": "33c0982f",
   "metadata": {},
   "outputs": [],
   "source": [
    "join_1 =  df_olist_order_items.merge(df_olist_orders, on='order_id', how='left')"
   ]
  },
  {
   "cell_type": "markdown",
   "id": "f2682ae0",
   "metadata": {},
   "source": [
    "### join tabela join_1 com df_olist_products "
   ]
  },
  {
   "cell_type": "code",
   "execution_count": 25,
   "id": "75a955da",
   "metadata": {},
   "outputs": [],
   "source": [
    "join_2 = join_1.merge(df_olist_products, on='product_id', how='left')"
   ]
  },
  {
   "cell_type": "markdown",
   "id": "a40a9e45",
   "metadata": {},
   "source": [
    "### join tabela join_2 com df_olist_customers "
   ]
  },
  {
   "cell_type": "code",
   "execution_count": 26,
   "id": "f08042d4",
   "metadata": {},
   "outputs": [],
   "source": [
    "join_final = join_2.merge(df_olist_customers, on='customer_id', how='left')"
   ]
  },
  {
   "cell_type": "markdown",
   "id": "048420b4",
   "metadata": {},
   "source": [
    "## Selecionando colunas e gerando carga na camada Gold."
   ]
  },
  {
   "cell_type": "code",
   "execution_count": 45,
   "id": "63e1e87a",
   "metadata": {},
   "outputs": [],
   "source": [
    "list_columns = ['order_id', 'product_id', 'customer_id', 'order_purchase_timestamp', 'order_status', 'price', 'freight_value', 'grupo',\n",
    "                'customer_city', 'customer_state', 'seller_id']"
   ]
  },
  {
   "cell_type": "code",
   "execution_count": 47,
   "id": "63a29ff6",
   "metadata": {},
   "outputs": [],
   "source": [
    "df_upload = join_final[list_columns]"
   ]
  },
  {
   "cell_type": "code",
   "execution_count": null,
   "id": "352f5dfa",
   "metadata": {},
   "outputs": [
    {
     "name": "stdout",
     "output_type": "stream",
     "text": [
      "Tabela df_upload criada com sucesso no schema gold!\n"
     ]
    }
   ],
   "source": [
    "df_upload.to_sql(\n",
    "        \"table_olist_fato\",\n",
    "        engine,\n",
    "        schema=\"gold\",  # <-- AQUI ESTÁ A MUDANÇA PRINCIPAL\n",
    "        if_exists='replace',\n",
    "        index=False\n",
    "    )\n",
    "\n",
    "print(f\"Tabela df_upload criada com sucesso no schema gold!\")"
   ]
  }
 ],
 "metadata": {
  "kernelspec": {
   "display_name": ".venv",
   "language": "python",
   "name": "python3"
  },
  "language_info": {
   "codemirror_mode": {
    "name": "ipython",
    "version": 3
   },
   "file_extension": ".py",
   "mimetype": "text/x-python",
   "name": "python",
   "nbconvert_exporter": "python",
   "pygments_lexer": "ipython3",
   "version": "3.10.11"
  }
 },
 "nbformat": 4,
 "nbformat_minor": 5
}
